{
 "cells": [
  {
   "cell_type": "markdown",
   "metadata": {},
   "source": [
    "# 数学函数、字符串和对象\n",
    "## 本章介绍Python函数来执行常见的数学运算\n",
    "- 函数是完成一个特殊任务的一组语句，可以理解为一个函数相当于一个小功能，但是在开发中，需要注意一个函数的长度最好不要超过一屏\n",
    "- Python中的内置函数是不需要Import导入的\n",
    "<img src=\"../Photo/15.png\"></img>"
   ]
  },
  {
   "cell_type": "code",
   "execution_count": 2,
   "metadata": {},
   "outputs": [
    {
     "name": "stdout",
     "output_type": "stream",
     "text": [
      "10\n"
     ]
    }
   ],
   "source": [
    "#绝对值\n",
    "print(abs(-10))"
   ]
  },
  {
   "cell_type": "code",
   "execution_count": 4,
   "metadata": {},
   "outputs": [
    {
     "data": {
      "text/plain": [
       "3"
      ]
     },
     "execution_count": 4,
     "metadata": {},
     "output_type": "execute_result"
    }
   ],
   "source": [
    "#MAX \n",
    "max(1,2,3)\n",
    "#max('abc')"
   ]
  },
  {
   "cell_type": "code",
   "execution_count": null,
   "metadata": {},
   "outputs": [],
   "source": [
    "#MIN\n",
    "min(-1,0,1)"
   ]
  },
  {
   "cell_type": "code",
   "execution_count": 5,
   "metadata": {},
   "outputs": [
    {
     "data": {
      "text/plain": [
       "390625"
      ]
     },
     "execution_count": 5,
     "metadata": {},
     "output_type": "execute_result"
    }
   ],
   "source": [
    "#POW（幂）\n",
    "pow(5,8)"
   ]
  },
  {
   "cell_type": "code",
   "execution_count": 7,
   "metadata": {},
   "outputs": [
    {
     "data": {
      "text/plain": [
       "4"
      ]
     },
     "execution_count": 7,
     "metadata": {},
     "output_type": "execute_result"
    }
   ],
   "source": [
    "#ROUND（X）(返回与X最接近的整数)\n",
    "round(3.8)"
   ]
  },
  {
   "cell_type": "code",
   "execution_count": 8,
   "metadata": {},
   "outputs": [
    {
     "data": {
      "text/plain": [
       "3.99999989"
      ]
     },
     "execution_count": 8,
     "metadata": {},
     "output_type": "execute_result"
    }
   ],
   "source": [
    "#round(x,n) 保留浮点小数\n",
    "round(3.99999988875622332,8)"
   ]
  },
  {
   "cell_type": "code",
   "execution_count": null,
   "metadata": {},
   "outputs": [],
   "source": [
    "#赌博 \n",
    "import random\n",
    "random.randint()"
   ]
  },
  {
   "cell_type": "code",
   "execution_count": 29,
   "metadata": {},
   "outputs": [
    {
     "name": "stdout",
     "output_type": "stream",
     "text": [
      "please input count only 0、1、2:2\n",
      "输了，再来一次吧！\n"
     ]
    }
   ],
   "source": [
    "#石头 = 0 \n",
    "#剪刀 = 1\n",
    "#布 = 2\n",
    "import random\n",
    "number = random.randint(0,2)\n",
    "count = eval(input('please input count only 0、1、2:'))\n",
    "if abs(number - count) == 1:\n",
    "    min(number,count)\n",
    "    print('你赢啦！')\n",
    "elif  abs(number - count) == 0:\n",
    "    print('平局，再来一次吧！')\n",
    "else:\n",
    "    max(number,count)\n",
    "    print('输了，再来一次吧！')"
   ]
  },
  {
   "cell_type": "code",
   "execution_count": null,
   "metadata": {},
   "outputs": [],
   "source": [
    "import os\n",
    "import random\n",
    "a = eval(input('please input number'))\n",
    "b = "
   ]
  },
  {
   "cell_type": "code",
   "execution_count": null,
   "metadata": {},
   "outputs": [],
   "source": [
    "a = -10\n",
    "print(abs(a))"
   ]
  },
  {
   "cell_type": "code",
   "execution_count": null,
   "metadata": {
    "scrolled": true
   },
   "outputs": [],
   "source": [
    "b = -10.1\n",
    "print(abs(b))"
   ]
  },
  {
   "cell_type": "code",
   "execution_count": null,
   "metadata": {},
   "outputs": [],
   "source": [
    "c = 0\n",
    "print(abs(c))"
   ]
  },
  {
   "cell_type": "code",
   "execution_count": null,
   "metadata": {},
   "outputs": [],
   "source": [
    "max(1, 2, 3, 4, 5)\n"
   ]
  },
  {
   "cell_type": "code",
   "execution_count": null,
   "metadata": {},
   "outputs": [],
   "source": [
    "min(1, 2, 3, 4, 5)"
   ]
  },
  {
   "cell_type": "code",
   "execution_count": null,
   "metadata": {},
   "outputs": [],
   "source": [
    "min(1, 2, 3, -4, 5)"
   ]
  },
  {
   "cell_type": "code",
   "execution_count": null,
   "metadata": {
    "scrolled": true
   },
   "outputs": [],
   "source": [
    "for i in range(10):\n",
    "    print(i)"
   ]
  },
  {
   "cell_type": "code",
   "execution_count": null,
   "metadata": {},
   "outputs": [],
   "source": [
    "pow(2, 4, 2)  # 幂指数运算，第三个参数是取模运算"
   ]
  },
  {
   "cell_type": "code",
   "execution_count": null,
   "metadata": {},
   "outputs": [],
   "source": [
    "round(10.67, 1)  # 一个参数就是四舍五入，保留小数位数"
   ]
  },
  {
   "cell_type": "markdown",
   "metadata": {},
   "source": [
    "## 尝试练习Python内置函数"
   ]
  },
  {
   "cell_type": "markdown",
   "metadata": {},
   "source": [
    "## Python中的math模块提供了许多数学函数\n",
    "<img src=\"../Photo/16.png\"></img>\n",
    "<img src=\"../Photo/17.png\"></img>\n"
   ]
  },
  {
   "cell_type": "code",
   "execution_count": null,
   "metadata": {},
   "outputs": [],
   "source": [
    "#圆的实现\n"
   ]
  },
  {
   "cell_type": "code",
   "execution_count": 32,
   "metadata": {},
   "outputs": [
    {
     "ename": "NameError",
     "evalue": "name 'log' is not defined",
     "output_type": "error",
     "traceback": [
      "\u001b[1;31m---------------------------------------------------------------------------\u001b[0m",
      "\u001b[1;31mNameError\u001b[0m                                 Traceback (most recent call last)",
      "\u001b[1;32m<ipython-input-32-818b62d8d236>\u001b[0m in \u001b[0;36m<module>\u001b[1;34m()\u001b[0m\n\u001b[0;32m      2\u001b[0m \u001b[0my\u001b[0m \u001b[1;33m=\u001b[0m \u001b[0mrandom\u001b[0m\u001b[1;33m.\u001b[0m\u001b[0mrandint\u001b[0m\u001b[1;33m(\u001b[0m\u001b[1;36m0\u001b[0m\u001b[1;33m,\u001b[0m\u001b[1;36m1\u001b[0m\u001b[1;33m)\u001b[0m\u001b[1;33m\u001b[0m\u001b[0m\n\u001b[0;32m      3\u001b[0m \u001b[0ma\u001b[0m \u001b[1;33m=\u001b[0m \u001b[0mrandom\u001b[0m\u001b[1;33m.\u001b[0m\u001b[0mrandint\u001b[0m\u001b[1;33m(\u001b[0m\u001b[1;36m0\u001b[0m\u001b[1;33m,\u001b[0m\u001b[1;36m1\u001b[0m\u001b[1;33m)\u001b[0m\u001b[1;33m\u001b[0m\u001b[0m\n\u001b[1;32m----> 4\u001b[1;33m \u001b[0mL\u001b[0m \u001b[1;33m=\u001b[0m \u001b[1;33m-\u001b[0m\u001b[1;33m(\u001b[0m\u001b[0my\u001b[0m\u001b[1;33m*\u001b[0m\u001b[0mlog\u001b[0m\u001b[1;33m(\u001b[0m\u001b[0ma\u001b[0m\u001b[1;33m)\u001b[0m\u001b[1;33m+\u001b[0m\u001b[1;33m(\u001b[0m\u001b[1;36m1\u001b[0m\u001b[1;33m-\u001b[0m\u001b[0my\u001b[0m\u001b[1;33m)\u001b[0m\u001b[1;33m*\u001b[0m\u001b[1;33m(\u001b[0m\u001b[0mlog\u001b[0m\u001b[1;33m(\u001b[0m\u001b[1;36m1\u001b[0m\u001b[1;33m-\u001b[0m\u001b[0ma\u001b[0m\u001b[1;33m)\u001b[0m\u001b[1;33m)\u001b[0m\u001b[1;33m)\u001b[0m\u001b[1;33m\u001b[0m\u001b[0m\n\u001b[0m",
      "\u001b[1;31mNameError\u001b[0m: name 'log' is not defined"
     ]
    }
   ],
   "source": [
    "import random\n",
    "y = random.randint(0,1)\n",
    "a = random.randint(0,1)\n",
    "L = -(y*log(a)+(1-y)*(log(1-a)))"
   ]
  },
  {
   "cell_type": "code",
   "execution_count": null,
   "metadata": {},
   "outputs": [],
   "source": [
    "#sin()使用弧度\n",
    "import math\n",
    "math.sin(math.radians(90))"
   ]
  },
  {
   "cell_type": "code",
   "execution_count": 12,
   "metadata": {},
   "outputs": [
    {
     "data": {
      "text/plain": [
       "4.0"
      ]
     },
     "execution_count": 12,
     "metadata": {},
     "output_type": "execute_result"
    }
   ],
   "source": [
    "#FABS\n",
    "import math\n",
    "math.fabs(-4)"
   ]
  },
  {
   "cell_type": "code",
   "execution_count": 13,
   "metadata": {},
   "outputs": [
    {
     "data": {
      "text/plain": [
       "-3"
      ]
     },
     "execution_count": 13,
     "metadata": {},
     "output_type": "execute_result"
    }
   ],
   "source": [
    "#ceil 向上取整\n",
    "import math\n",
    "math.ceil(-3.1)"
   ]
  },
  {
   "cell_type": "code",
   "execution_count": 23,
   "metadata": {},
   "outputs": [
    {
     "data": {
      "text/plain": [
       "2.6881171418161356e+43"
      ]
     },
     "execution_count": 23,
     "metadata": {},
     "output_type": "execute_result"
    }
   ],
   "source": [
    "import math\n",
    "math.exp(100)\n"
   ]
  },
  {
   "cell_type": "code",
   "execution_count": 24,
   "metadata": {},
   "outputs": [
    {
     "name": "stdout",
     "output_type": "stream",
     "text": [
      "0.14760351181030273\n"
     ]
    }
   ],
   "source": [
    "import time\n",
    "start = time.time()#返回时间戳\n",
    "num = 0\n",
    "for  i  in  range (1000000):\n",
    "     num +=i\n",
    "end = time.time()\n",
    "print(end - start)"
   ]
  },
  {
   "cell_type": "code",
   "execution_count": null,
   "metadata": {},
   "outputs": [],
   "source": [
    "import math # 导入数学包\n",
    "a1 = math.fabs(-2)\n",
    "print(a1)\n",
    "\n",
    "print(math.log(2.71828))\n",
    "print(math.asin(1.0))"
   ]
  },
  {
   "cell_type": "code",
   "execution_count": null,
   "metadata": {},
   "outputs": [],
   "source": [
    "b1 = math.cos(math.radians(90))   # cos代入的是弧度值，very important！\n",
    "print(b1)\n",
    "c1 = 3.1415926\n",
    "print(math.degrees(c1))"
   ]
  },
  {
   "cell_type": "code",
   "execution_count": null,
   "metadata": {},
   "outputs": [],
   "source": [
    "math.sqrt(9)"
   ]
  },
  {
   "cell_type": "code",
   "execution_count": null,
   "metadata": {},
   "outputs": [],
   "source": [
    "math.sin(2 * math.pi)"
   ]
  },
  {
   "cell_type": "code",
   "execution_count": null,
   "metadata": {},
   "outputs": [],
   "source": [
    "math.cos(2 * math.pi)"
   ]
  },
  {
   "cell_type": "code",
   "execution_count": null,
   "metadata": {},
   "outputs": [],
   "source": [
    "min(2, 2, 1)"
   ]
  },
  {
   "cell_type": "code",
   "execution_count": null,
   "metadata": {},
   "outputs": [],
   "source": [
    "math.log(math.e ** 2)"
   ]
  },
  {
   "cell_type": "code",
   "execution_count": null,
   "metadata": {},
   "outputs": [],
   "source": [
    "math.exp(1)"
   ]
  },
  {
   "cell_type": "code",
   "execution_count": null,
   "metadata": {},
   "outputs": [],
   "source": [
    "max(2, 3, 4)"
   ]
  },
  {
   "cell_type": "code",
   "execution_count": null,
   "metadata": {},
   "outputs": [],
   "source": [
    "math.ceil(-2.5)"
   ]
  },
  {
   "cell_type": "code",
   "execution_count": null,
   "metadata": {},
   "outputs": [],
   "source": [
    "# 验证码系统\n",
    "first_num, second_num = 3, 4\n",
    "print('验证码', first_num ,'+', second_num, '= ?')\n",
    "answer = eval(input('写出结果： '))\n",
    "\n",
    "if answer == first_num + second_num:\n",
    "    print('验证码正确')\n",
    "else:\n",
    "    print('验证码错误')\n"
   ]
  },
  {
   "cell_type": "code",
   "execution_count": null,
   "metadata": {},
   "outputs": [],
   "source": [
    "import random\n",
    "import math\n",
    "\n",
    "first_num, second_num = 3, 4\n",
    "list = ['+', '-', '*', '/']\n",
    "randl = random.randint(0, 3)\n",
    "if list[randl]=='+':\n",
    "    print('验证码', first_num ,'+', second_num, '= ?')\n",
    "    right_answer = first_num + second_num\n",
    "elif list[randl]=='-':\n",
    "    print('验证码', first_num ,'-', second_num, '= ?')\n",
    "    right_answer = first_num - second_num\n",
    "elif list[randl]=='-':\n",
    "    print('验证码', first_num ,'*', second_num, '= ?')\n",
    "    right_answer = first_num * second_num\n",
    "else:\n",
    "    print('验证码', first_num ,'/', second_num, '= ?')\n",
    "    right_answer = first_num / second_num\n",
    "    \n",
    "answer = eval(input('写出结果： '))\n",
    "\n",
    "if answer == right_answer:\n",
    "    print('验证码正确')\n",
    "else:\n",
    "    print('验证码错误')"
   ]
  },
  {
   "cell_type": "code",
   "execution_count": null,
   "metadata": {},
   "outputs": [],
   "source": [
    "# 验证码系统\n",
    "import random\n",
    "first_num = random.randint(0, 9)\n",
    "second_num = random.randint(0, 9)\n",
    "fuhao = random.randint(0, 3)\n",
    "\n",
    "if fuhao==0:\n",
    "    print('验证码', first_num ,'+', second_num, '= ?')\n",
    "    right_answer = first_num + second_num\n",
    "elif fuhao==1:\n",
    "    print('验证码', first_num ,'-', second_num, '= ?')\n",
    "    right_answer = first_num - second_num\n",
    "elif fuhao==2:\n",
    "    print('验证码', first_num ,'*', second_num, '= ?')\n",
    "    right_answer = first_num * second_num\n",
    "else:\n",
    "    print('验证码', first_num ,'/', second_num, '= ?')\n",
    "    right_answer = first_num / second_num\n",
    "    \n",
    "answer = eval(input('写出结果： '))\n",
    "\n",
    "if answer == right_answer:\n",
    "    print('验证码正确')\n",
    "else:\n",
    "    print('验证码错误')\n"
   ]
  },
  {
   "cell_type": "code",
   "execution_count": null,
   "metadata": {},
   "outputs": [],
   "source": [
    "import random\n",
    "list = ['+', '-', '*', '/']\n",
    "c = random.sample(list, 1)\n",
    "print(c)"
   ]
  },
  {
   "cell_type": "code",
   "execution_count": null,
   "metadata": {
    "scrolled": true
   },
   "outputs": [],
   "source": [
    "import random\n",
    "import math\n",
    "\n",
    "first_num = random.randint(0, 9)\n",
    "second_num = random.randint(0, 9)\n",
    "list = ['+', '-', '*', '/']\n",
    "fuhao = random.sample(list, 1)\n",
    "if fuhao=='+':\n",
    "    print('验证码', first_num ,'+', second_num, '= ?')\n",
    "    right_answer = first_num + second_num\n",
    "elif fuhao=='-':\n",
    "    print('验证码', first_num ,'-', second_num, '= ?')\n",
    "    right_answer = first_num - second_num\n",
    "elif fuhao=='-':\n",
    "    print('验证码', first_num ,'*', second_num, '= ?')\n",
    "    right_answer = first_num * second_num\n",
    "else:\n",
    "    print('验证码', first_num ,'/', second_num, '= ?')\n",
    "    right_answer = first_num / second_num\n",
    "    \n",
    "answer = eval(input('写出结果： '))\n",
    "\n",
    "if answer == right_answer:\n",
    "    print('验证码正确')\n",
    "else:\n",
    "    print('验证码错误')"
   ]
  },
  {
   "cell_type": "code",
   "execution_count": null,
   "metadata": {},
   "outputs": [],
   "source": [
    "import PIL"
   ]
  },
  {
   "cell_type": "markdown",
   "metadata": {},
   "source": [
    "## 两个数学常量PI和e，可以通过使用math.pi 和math.e调用"
   ]
  },
  {
   "cell_type": "code",
   "execution_count": null,
   "metadata": {},
   "outputs": [],
   "source": [
    "import math\n",
    "print(math.pi)\n",
    "print(math.e)"
   ]
  },
  {
   "cell_type": "markdown",
   "metadata": {},
   "source": [
    "## EP:\n",
    "- 通过math库，写一个程序，使得用户输入三个顶点(x,y)返回三个角度\n",
    "- 注意：Python计算角度为弧度制，需要将其转换为角度\n",
    "<img src=\"../Photo/18.png\">"
   ]
  },
  {
   "cell_type": "code",
   "execution_count": null,
   "metadata": {},
   "outputs": [],
   "source": [
    "import math\n",
    "x1,y1 = eval(input('输入A点坐标：'))\n",
    "x2,y2 = eval(input('输入B点坐标：'))\n",
    "x3,y3 = eval(input('输入C点坐标：'))\n",
    "\n",
    "a = math.sqrt(pow((x2-x3),2)+pow((y2-y3),2))\n",
    "b = math.sqrt(pow((x3-x1),2)+pow((y3-y1),2))\n",
    "c = math.sqrt(pow((x2-x1),2)+pow((y2-y1),2))\n",
    "\n",
    "A = math.degrees(math.acos((a*a-b*b-c*c)/(-2*b*c)))\n",
    "B = math.degrees(math.acos((b*b-a*a-c*c)/(-2*a*c)))\n",
    "C = math.degrees(math.acos((c*c-b*b-a*a)/(-2*b*a)))\n",
    "\n",
    "print('三角形的三个角分别是：'A,B,C)"
   ]
  },
  {
   "cell_type": "code",
   "execution_count": 25,
   "metadata": {},
   "outputs": [
    {
     "name": "stdout",
     "output_type": "stream",
     "text": [
      "ok\n",
      "ok\n",
      "ok\n",
      "38\n"
     ]
    }
   ],
   "source": [
    "c = '''她说：“你真是一个小天才”\n",
    "你真是一个小煞笔\n",
    "你真是一个大煞笔\n",
    "你真是一个小机灵鬼'''\n",
    "num = 0\n",
    "for i  in  c:\n",
    "    if i=='\\n':\n",
    "        print('ok')\n",
    "        continue\n",
    "    else: num+=1 \n",
    "print(num)"
   ]
  },
  {
   "cell_type": "code",
   "execution_count": 26,
   "metadata": {},
   "outputs": [
    {
     "data": {
      "text/plain": [
       "b'\\xe5\\xa5\\xb9\\xe8\\xaf\\xb4\\xef\\xbc\\x9a\\xe2\\x80\\x9c\\xe4\\xbd\\xa0\\xe7\\x9c\\x9f\\xe6\\x98\\xaf\\xe4\\xb8\\x80\\xe4\\xb8\\xaa\\xe5\\xb0\\x8f\\xe5\\xa4\\xa9\\xe6\\x89\\x8d\\xe2\\x80\\x9d\\n\\xe4\\xbd\\xa0\\xe7\\x9c\\x9f\\xe6\\x98\\xaf\\xe4\\xb8\\x80\\xe4\\xb8\\xaa\\xe5\\xb0\\x8f\\xe7\\x85\\x9e\\xe7\\xac\\x94\\n\\xe4\\xbd\\xa0\\xe7\\x9c\\x9f\\xe6\\x98\\xaf\\xe4\\xb8\\x80\\xe4\\xb8\\xaa\\xe5\\xa4\\xa7\\xe7\\x85\\x9e\\xe7\\xac\\x94\\n\\xe4\\xbd\\xa0\\xe7\\x9c\\x9f\\xe6\\x98\\xaf\\xe4\\xb8\\x80\\xe4\\xb8\\xaa\\xe5\\xb0\\x8f\\xe6\\x9c\\xba\\xe7\\x81\\xb5\\xe9\\xac\\xbc'"
      ]
     },
     "execution_count": 26,
     "metadata": {},
     "output_type": "execute_result"
    }
   ],
   "source": [
    "c = '''她说：“你真是一个小天才”\n",
    "你真是一个小煞笔\n",
    "你真是一个大煞笔\n",
    "你真是一个小机灵鬼'''\n",
    "bytes(c.encode('utf-8'))\n"
   ]
  },
  {
   "cell_type": "code",
   "execution_count": null,
   "metadata": {},
   "outputs": [],
   "source": [
    "#统计煞笔\n",
    "c = '''\n",
    "她说：“你真是一个小天才”\n",
    "你真是一个小煞笔\n",
    "你真是一个大煞笔\n",
    "你真是一个小机灵鬼\n",
    "'''\n",
    "num = 0\n",
    "for i in c:\n",
    "    num +=1\n",
    "    print(num)"
   ]
  },
  {
   "cell_type": "code",
   "execution_count": null,
   "metadata": {},
   "outputs": [],
   "source": [
    "import math\n",
    "\n",
    "x1, y1 = eval(input('输入A点坐标：'))\n",
    "x2, y2 = eval(input('输入B点坐标：'))\n",
    "x3, y3 = eval(input('输入C点坐标：'))\n",
    "\n",
    "a = math.sqrt((x1 - x2) ** 2 + (y1 - y2) ** 2)\n",
    "b = math.sqrt((x1 - x3) ** 2 + (y1 - y3) ** 2)\n",
    "c = math.sqrt((x2 - x3) ** 2 + (y2 - y3) ** 2)\n",
    "\n",
    "A = math.degrees(math.acos((a * a - b * b - c * c) / (-2 * b * c)))\n",
    "B = math.degrees(math.acos((b * b - a * a - c * c) / (-2 * a * c)))\n",
    "C = math.degrees(math.acos((c * c - b * b - a * a) / (-2 * a * b)))\n",
    "\n",
    "print('三角形的三个角分别为', A, B, C)\n",
    "\n",
    "                 \n"
   ]
  },
  {
   "cell_type": "markdown",
   "metadata": {},
   "source": [
    "## 字符串和字符\n",
    "- 在Python中，字符串必须是在单引号或者双引号内，在多段换行的字符串中可以使用“”“\n",
    "- 在使用”“”时，给予其变量则变为字符串，否则当多行注释使用"
   ]
  },
  {
   "cell_type": "code",
   "execution_count": null,
   "metadata": {},
   "outputs": [],
   "source": [
    "#练习\n",
    "a = 'a'\n",
    "b = 'b'\n",
    "'''\n",
    "你真是\n",
    "'''"
   ]
  },
  {
   "cell_type": "code",
   "execution_count": null,
   "metadata": {},
   "outputs": [],
   "source": [
    "a = 'joker'\n",
    "b = \"Kate\"\n",
    "c = \"\"\"在Python中，字符串必须是在单引号或者双引号内，在多段换行的字符串中可以使用“”“\n",
    "在使用”“”时，给予其变量则变为字符串，否则当多行注释使用\"\"\"   #字符串有多行时，添加三个单引号或者三个双引号\n",
    "\n",
    "\"\"\"在Python中，字符串必须是在单引号或者双引号内，在多段换行的字符串中可以使用“”“\n",
    "在使用”“”时，给予其变量则变为字符串，否则当多行注释使用\"\"\"   #三引号可以表示多行注释\n",
    "# 当6个引号没有赋值时，那么它是注释的作用\n",
    "# 6个引号的作用，多行文本\n",
    "\n",
    "print(type(a), type(b), type(c))"
   ]
  },
  {
   "cell_type": "markdown",
   "metadata": {},
   "source": [
    "## ASCII码与Unicode码\n",
    "- <img src=\"../Photo/19.png\"></img>\n",
    "- <img src=\"../Photo/20.png\"></img>\n",
    "- <img src=\"../Photo/21.png\"></img>"
   ]
  },
  {
   "cell_type": "markdown",
   "metadata": {},
   "source": [
    "## 函数ord、chr\n",
    "- ord 返回ASCII码值\n",
    "- chr 返回字符"
   ]
  },
  {
   "cell_type": "code",
   "execution_count": 30,
   "metadata": {},
   "outputs": [
    {
     "data": {
      "text/plain": [
       "98"
      ]
     },
     "execution_count": 30,
     "metadata": {},
     "output_type": "execute_result"
    }
   ],
   "source": [
    "ord('b')"
   ]
  },
  {
   "cell_type": "code",
   "execution_count": 31,
   "metadata": {},
   "outputs": [
    {
     "data": {
      "text/plain": [
       "'b'"
      ]
     },
     "execution_count": 31,
     "metadata": {},
     "output_type": "execute_result"
    }
   ],
   "source": [
    "chr(98)"
   ]
  },
  {
   "cell_type": "code",
   "execution_count": 41,
   "metadata": {},
   "outputs": [
    {
     "name": "stdout",
     "output_type": "stream",
     "text": [
      "1575771603@qq.com"
     ]
    }
   ],
   "source": [
    "#邮箱\n",
    "a = '1575771603@qq.com'\n",
    "for i in a:\n",
    "    #print(ord(i),end=' ')\n",
    "    print(chr(ord(i)),end='')"
   ]
  },
  {
   "cell_type": "code",
   "execution_count": 46,
   "metadata": {},
   "outputs": [
    {
     "ename": "IndentationError",
     "evalue": "expected an indented block (<ipython-input-46-6f60cecd68dd>, line 6)",
     "output_type": "error",
     "traceback": [
      "\u001b[1;36m  File \u001b[1;32m\"<ipython-input-46-6f60cecd68dd>\"\u001b[1;36m, line \u001b[1;32m6\u001b[0m\n\u001b[1;33m    if b == 1:\u001b[0m\n\u001b[1;37m     ^\u001b[0m\n\u001b[1;31mIndentationError\u001b[0m\u001b[1;31m:\u001b[0m expected an indented block\n"
     ]
    }
   ],
   "source": [
    "import random\n",
    "fh = ''\n",
    "a = '1575771603@qq.com'\n",
    "b = random.randint(0,4)\n",
    "for i in a:\n",
    "if b == 1:\n",
    "    fh = '+b'\n",
    "    elif b == 2:\n",
    "        fh = '-b'\n",
    "        elif  b == 3:\n",
    "            fh = '*b'\n",
    "            elif b = 4:\n",
    "                fh = '/b'\n",
    "                else:\n",
    "                    fh = '%b'\n",
    "    s = ord(i)fh\n",
    "    print(s)\n",
    "    #print(chr(ord(i)),end='')\n",
    "    "
   ]
  },
  {
   "cell_type": "code",
   "execution_count": null,
   "metadata": {},
   "outputs": [],
   "source": [
    "joker = 'A'\n",
    "ord(joker)\n",
    "print(ord('q'), ord('Z'))"
   ]
  },
  {
   "cell_type": "code",
   "execution_count": null,
   "metadata": {},
   "outputs": [],
   "source": [
    "print(chr(65))\n",
    "print(chr(90))"
   ]
  },
  {
   "cell_type": "code",
   "execution_count": 2,
   "metadata": {},
   "outputs": [
    {
     "data": {
      "text/plain": [
       "(array([0], dtype=int64),)"
      ]
     },
     "execution_count": 2,
     "metadata": {},
     "output_type": "execute_result"
    }
   ],
   "source": [
    "import numpy as np\n",
    "np.nonzero(1)"
   ]
  },
  {
   "cell_type": "markdown",
   "metadata": {},
   "source": [
    "## EP:\n",
    "- 利用ord与chr进行简单邮箱加密"
   ]
  },
  {
   "cell_type": "code",
   "execution_count": null,
   "metadata": {},
   "outputs": [],
   "source": [
    "email = 'maomaochong@163.com'  # 邮箱加密过程\n",
    "j = 0\n",
    "for i in email:\n",
    "    text = ord(i) + 1\n",
    "    re_text = chr(text)\n",
    "    print(re_text)"
   ]
  },
  {
   "cell_type": "code",
   "execution_count": null,
   "metadata": {},
   "outputs": [],
   "source": [
    "import hashlib\n",
    "str1 = 'this is a test.'\n",
    "h1 = hashlib.md5()\n",
    "h1.update(str1.encode(encoding = 'utf-8'))\n",
    "print('MD5加密之后为：', h1.hexdigest())"
   ]
  },
  {
   "cell_type": "markdown",
   "metadata": {},
   "source": [
    "## 转义序列 \\\n",
    "- a = \"He said,\"Johon's program is easy to read\"\"\n",
    "- 转掉原来的意思\n",
    "- 一般情况下，只有当语句与默认语句相撞的时候，就需要转义"
   ]
  },
  {
   "cell_type": "code",
   "execution_count": 89,
   "metadata": {},
   "outputs": [
    {
     "name": "stdout",
     "output_type": "stream",
     "text": [
      "Wall time: 0 ns\n"
     ]
    },
    {
     "data": {
      "text/plain": [
       "'ab'"
      ]
     },
     "execution_count": 89,
     "metadata": {},
     "output_type": "execute_result"
    }
   ],
   "source": [
    "#JOIN  以。。。进行拼接\n",
    "%time  ''.join(('a','b'))"
   ]
  },
  {
   "cell_type": "code",
   "execution_count": 52,
   "metadata": {},
   "outputs": [
    {
     "name": "stdout",
     "output_type": "stream",
     "text": [
      "Wall time: 0 ns\n"
     ]
    },
    {
     "data": {
      "text/plain": [
       "'a100'"
      ]
     },
     "execution_count": 52,
     "metadata": {},
     "output_type": "execute_result"
    }
   ],
   "source": [
    "%time 'a'+'100'"
   ]
  },
  {
   "cell_type": "code",
   "execution_count": null,
   "metadata": {},
   "outputs": [],
   "source": [
    "a = \"He said,\\\"Johon's program is easy to read\\\"\"  #z正则表达式中常用转义字符\\\n",
    "print(a)"
   ]
  },
  {
   "cell_type": "markdown",
   "metadata": {},
   "source": [
    "## 高级print\n",
    "- 参数 end： 以什么方式结束打印\n",
    "- 默认换行打印"
   ]
  },
  {
   "cell_type": "code",
   "execution_count": null,
   "metadata": {},
   "outputs": [],
   "source": [
    "email = 'maomaochong@163.com'  # 邮箱加密过程\n",
    "j = 0\n",
    "for i in email:\n",
    "    text = ord(i) + 1\n",
    "    re_text = chr(text)\n",
    "    print(re_text, end = '')"
   ]
  },
  {
   "cell_type": "markdown",
   "metadata": {},
   "source": [
    "## 函数str\n",
    "- 将类型强制转换成字符串类型\n",
    "- 其他一些以后会学到(list,set,tuple...)"
   ]
  },
  {
   "cell_type": "code",
   "execution_count": null,
   "metadata": {},
   "outputs": [],
   "source": [
    "a = 100.12\n",
    "type(str(a))"
   ]
  },
  {
   "cell_type": "markdown",
   "metadata": {},
   "source": [
    "## 字符串连接操作\n",
    "- 直接使用 “+” \n",
    "- join() 函数 "
   ]
  },
  {
   "cell_type": "code",
   "execution_count": null,
   "metadata": {},
   "outputs": [],
   "source": [
    "a1 = 'www.baidu.com/image.page='\n",
    "a2 = '1'\n",
    "for i in range(0, 10):\n",
    "    a2 = a1 + str(i)\n",
    "    print(a2)"
   ]
  },
  {
   "cell_type": "code",
   "execution_count": null,
   "metadata": {},
   "outputs": [],
   "source": [
    "joint = '^'\n",
    "%time  joint.join(('a', 'b', 'c', 'd'))  # join的参数需要在一个元组之中"
   ]
  },
  {
   "cell_type": "code",
   "execution_count": null,
   "metadata": {},
   "outputs": [],
   "source": [
    "%time  '*'.join(('a', 'b', 'c', 'd'))  # join的参数需要在一个元组之中"
   ]
  },
  {
   "cell_type": "code",
   "execution_count": null,
   "metadata": {},
   "outputs": [],
   "source": [
    "%time 'A' + 'B' + 'C'"
   ]
  },
  {
   "cell_type": "markdown",
   "metadata": {},
   "source": [
    "## EP：\n",
    "- 将 “Welcome” “to” \"Python\" 拼接\n",
    "- 将int型 100 与 “joker is a bad man” 拼接\n",
    "- 从控制台读取字符串\n",
    "> 输入一个名字返回夸奖此人是一个帅哥"
   ]
  },
  {
   "cell_type": "code",
   "execution_count": 93,
   "metadata": {},
   "outputs": [
    {
     "data": {
      "text/plain": [
       "'Welcome to Python'"
      ]
     },
     "execution_count": 93,
     "metadata": {},
     "output_type": "execute_result"
    }
   ],
   "source": [
    "' '.join(('Welcome','to','Python'))"
   ]
  },
  {
   "cell_type": "code",
   "execution_count": 96,
   "metadata": {},
   "outputs": [
    {
     "data": {
      "text/plain": [
       "'100joker is a bad man'"
      ]
     },
     "execution_count": 96,
     "metadata": {},
     "output_type": "execute_result"
    }
   ],
   "source": [
    "''.join((str(100),'joker is a bad man'))"
   ]
  },
  {
   "cell_type": "code",
   "execution_count": 24,
   "metadata": {},
   "outputs": [
    {
     "name": "stdout",
     "output_type": "stream",
     "text": [
      "please input name:lily\n",
      "lily,you are very beautiful!\n"
     ]
    }
   ],
   "source": [
    "name = input('please input name:')\n",
    "a = ''.join((name,',you are very beautiful!'))\n",
    "print(a)"
   ]
  },
  {
   "cell_type": "code",
   "execution_count": null,
   "metadata": {},
   "outputs": [],
   "source": [
    "text1 = ' '.join(('Welcome', 'to', 'Python'))\n",
    "i = 100\n",
    "text2 = str(i)\n",
    "text3 = ' '.join((text2, 'Joker is a bad man'))\n",
    "print(text1, '\\n', text2 ,'\\n', text3)"
   ]
  },
  {
   "cell_type": "code",
   "execution_count": 19,
   "metadata": {},
   "outputs": [
    {
     "name": "stdout",
     "output_type": "stream",
     "text": [
      "输入名字：1\n",
      "1 is a good boy.\n"
     ]
    }
   ],
   "source": [
    "name = input('输入名字：')\n",
    "text = ' '.join((name, 'is a good boy.'))\n",
    "print(text)"
   ]
  },
  {
   "cell_type": "markdown",
   "metadata": {},
   "source": [
    "## 实例研究：最小数量硬币\n",
    "- 开发一个程序，让用户输入总金额，这是一个用美元和美分表示的浮点值，返回一个由美元、两角五分的硬币、一角的硬币、五分硬币、以及美分个数\n",
    "<img src=\"../Photo/22.png\"></img>"
   ]
  },
  {
   "cell_type": "code",
   "execution_count": null,
   "metadata": {},
   "outputs": [],
   "source": [
    "amount = eval(input('Enter an amount, for example 11.56: '))\n",
    "fenshuAmount = int(amount * 100)\n",
    "dollorAmount = fenshuAmount // 100\n",
    "remainDollorAmount = fenshuAmount % 100\n",
    "jiaoAmount = remainDollorAmount // 25\n",
    "remainJiaoAmount = remainDollorAmount % 25\n",
    "fenAmount = remainJiaoAmount // 10\n",
    "remainFenAmount = remainJiaoAmount % 10\n",
    "fenAmount2 = remainFenAmount // 5\n",
    "remainFenAmount2 = remainFenAmount % 5\n",
    "fenFinalAmount = remainFenAmount2 \n",
    "print('美元个数为',dollorAmount,'\\n', '两角五分硬币个数为',\n",
    "      jiaoAmount, '\\n','一角个数为', fenAmount, '\\n','五美分个数为', fenAmount2,'\\n', '一美分个数为',fenFinalAmount)"
   ]
  },
  {
   "cell_type": "code",
   "execution_count": null,
   "metadata": {},
   "outputs": [],
   "source": [
    "amount = eval(input('Ennter an amount,for example 11.56:'))\n",
    "remainingAmount = int(amount * 100)\n",
    "print(remainingAmount)\n",
    "numberOfOneDollars = remainingAmount //100\n",
    "remainingAmount = remainingAmount % 100\n",
    "numberOfQuarters = remainingAmount // 25\n",
    "remainingAmount = remainingAmount % 25\n",
    "numberOfDimes = remainingAmount // 10\n",
    "remainingAmount = remainingAmount % 10\n",
    "numberOfNickls = remainingAmount // 5\n",
    "remainingAmount = remainingAmount % 5\n",
    "numberOfPenies = remainingAmount\n",
    "print(numberOfOneDollars,numberOfQuarters,numberOfDimes,numberOfNickls,numberOfPenies)"
   ]
  },
  {
   "cell_type": "markdown",
   "metadata": {},
   "source": [
    "- Python弱项，对于浮点型的处理并不是很好，但是处理数据的时候使用的是Numpy类型\n",
    "<img src=\"../Photo/23.png\"></img>"
   ]
  },
  {
   "cell_type": "code",
   "execution_count": null,
   "metadata": {},
   "outputs": [],
   "source": [
    "remainingAmount = eval(input('Ennter an amount,for example 11.56:'))\n",
    "print(remainingAmount)\n",
    "numberOfOneDollars = remainingAmount //100\n",
    "remainingAmount = remainingAmount % 100\n",
    "numberOfQuarters = remainingAmount // 25\n",
    "remainingAmount = remainingAmount % 25\n",
    "numberOfDimes = remainingAmount // 10\n",
    "remainingAmount = remainingAmount % 10\n",
    "numberOfNickls = remainingAmount // 5\n",
    "remainingAmount = remainingAmount % 5\n",
    "numberOfPenies = remainingAmount\n",
    "print(numberOfOneDollars,numberOfQuarters,numberOfDimes,numberOfNickls,numberOfPenies)"
   ]
  },
  {
   "cell_type": "markdown",
   "metadata": {},
   "source": [
    "## id与type\n",
    "- id 查看内存地址，在判断语句中将会使用\n",
    "- type 查看元素类型"
   ]
  },
  {
   "cell_type": "code",
   "execution_count": 26,
   "metadata": {},
   "outputs": [
    {
     "data": {
      "text/plain": [
       "False"
      ]
     },
     "execution_count": 26,
     "metadata": {},
     "output_type": "execute_result"
    }
   ],
   "source": [
    "#\n",
    "id(262) is id(262)"
   ]
  },
  {
   "cell_type": "code",
   "execution_count": null,
   "metadata": {},
   "outputs": [],
   "source": [
    "a = 100\n",
    "id(a)"
   ]
  },
  {
   "cell_type": "code",
   "execution_count": null,
   "metadata": {
    "scrolled": true
   },
   "outputs": [],
   "source": [
    "id(True)"
   ]
  },
  {
   "cell_type": "code",
   "execution_count": null,
   "metadata": {},
   "outputs": [],
   "source": [
    "100 == 100"
   ]
  },
  {
   "cell_type": "code",
   "execution_count": null,
   "metadata": {},
   "outputs": [],
   "source": [
    "112345678800000000 is '112345678800000000'"
   ]
  },
  {
   "cell_type": "code",
   "execution_count": null,
   "metadata": {},
   "outputs": [],
   "source": [
    "112345678800000000 is 112345678800000000"
   ]
  },
  {
   "cell_type": "code",
   "execution_count": null,
   "metadata": {},
   "outputs": [],
   "source": [
    "a = True\n",
    "b = False\n",
    "print(id(a), id(b))\n",
    "a is b\n"
   ]
  },
  {
   "cell_type": "markdown",
   "metadata": {},
   "source": [
    "## 其他格式化语句见书"
   ]
  },
  {
   "cell_type": "markdown",
   "metadata": {},
   "source": [
    "# Homework\n",
    "- 1\n",
    "<img src=\"../Photo/24.png\"><img>\n",
    "<img src=\"../Photo/25.png\"><img>"
   ]
  },
  {
   "cell_type": "code",
   "execution_count": 28,
   "metadata": {},
   "outputs": [
    {
     "name": "stdout",
     "output_type": "stream",
     "text": [
      "Enter the length from the center to a vertex:5.5\n",
      "The area of the pentagon is  71.92\n"
     ]
    }
   ],
   "source": [
    "import math \n",
    "r = eval(input('Enter the length from the center to a vertex:'))\n",
    "s = 2*r*math.sin(math.pi / 5)\n",
    "area = 5 * s * s / (4 * math.tan(math.pi / 5))\n",
    "print('The area of the pentagon is  %.2f' %(area) )"
   ]
  },
  {
   "cell_type": "markdown",
   "metadata": {},
   "source": [
    "- 2\n",
    "<img src=\"../Photo/26.png\"><img>"
   ]
  },
  {
   "cell_type": "code",
   "execution_count": 30,
   "metadata": {},
   "outputs": [
    {
     "name": "stdout",
     "output_type": "stream",
     "text": [
      "Enter point 1 (latitude and longitude) in degrees:39.55,-116.25\n",
      "Enter point 2 (latitude and longitude) in degrees:41.5,87.37\n",
      "The distance between the two points is 10691.791832\n"
     ]
    }
   ],
   "source": [
    "import math\n",
    "x1,y1 = eval(input('Enter point 1 (latitude and longitude) in degrees:'))\n",
    "x2,y2 = eval(input('Enter point 2 (latitude and longitude) in degrees:'))\n",
    "x1 = math.radians(x1)\n",
    "x2 = math.radians(x2)\n",
    "y1 = math.radians(y1)\n",
    "y2 = math.radians(y2)\n",
    "radius = 6371.01\n",
    "d = radius * math.acos(math.sin(x1) * math.sin(x2) + math.cos(x1) * math.cos(x2) * math.cos(y1-y2))\n",
    "print('The distance between the two points is %f' %(d))"
   ]
  },
  {
   "cell_type": "markdown",
   "metadata": {},
   "source": [
    "- 3\n",
    "<img src=\"../Photo/27.png\"><img>"
   ]
  },
  {
   "cell_type": "code",
   "execution_count": 37,
   "metadata": {},
   "outputs": [
    {
     "name": "stdout",
     "output_type": "stream",
     "text": [
      "Enter the said:5.5\n",
      "The area of the pentagon is 52.0444\n"
     ]
    }
   ],
   "source": [
    "import math\n",
    "side = eval(input('Enter the said:'))\n",
    "area =5 * s * s/ (4 * math.tan(math.pi / 5))\n",
    "print('The area of the pentagon is %.4f' %(area))"
   ]
  },
  {
   "cell_type": "markdown",
   "metadata": {},
   "source": [
    "- 4\n",
    "<img src=\"../Photo/28.png\"><img>"
   ]
  },
  {
   "cell_type": "code",
   "execution_count": 40,
   "metadata": {},
   "outputs": [
    {
     "name": "stdout",
     "output_type": "stream",
     "text": [
      "Enter the number of sides:5\n",
      "Enter the sides:6.5\n",
      "The area of the polyon is 72.690170\n"
     ]
    }
   ],
   "source": [
    "import math \n",
    "number = eval(input('Enter the number of sides:'))\n",
    "s = eval(input('Enter the sides:'))\n",
    "area = number * s * s /(4 * math.tan(math.pi / 5)) \n",
    "print('The area of the polyon is %f' %(area))"
   ]
  },
  {
   "cell_type": "markdown",
   "metadata": {},
   "source": [
    "- 5\n",
    "<img src=\"../Photo/29.png\"><img>\n",
    "<img src=\"../Photo/30.png\"><img>"
   ]
  },
  {
   "cell_type": "code",
   "execution_count": 42,
   "metadata": {},
   "outputs": [
    {
     "name": "stdout",
     "output_type": "stream",
     "text": [
      "Enter an ASCII code :69\n",
      "The character is  E\n"
     ]
    }
   ],
   "source": [
    "number = eval(input('Enter an ASCII code :'))\n",
    "a = chr(number)\n",
    "print('The character is ', a)"
   ]
  },
  {
   "cell_type": "markdown",
   "metadata": {},
   "source": [
    "- 6\n",
    "<img src=\"../Photo/31.png\"><img>"
   ]
  },
  {
   "cell_type": "code",
   "execution_count": 47,
   "metadata": {},
   "outputs": [
    {
     "name": "stdout",
     "output_type": "stream",
     "text": [
      "Enter employee's  name :Smith\n",
      "Enter number of hours worked in a week:10\n",
      "Enter hourly pay rate:9.75\n",
      "Enter federal tax withholding rate:0.20\n",
      "Enter state tax withholding rate :0.09\n",
      "Employee Name: Smith \n",
      " Hours Worked: 10 \n",
      " Pay rate: $ 9.75 \n",
      " Gross pay: 4 97.5 \n",
      " Feferal Withholding(20.0%): $ 19.5 \n",
      " State Withholding(9.0%): $ 8.775 \n",
      " Employee Name: Smith \n",
      " Total Deduction: $ 28.275 \n",
      " Net Pay: 69.225\n"
     ]
    }
   ],
   "source": [
    "name = input(\"Enter employee's  name :\")\n",
    "weektime = eval(input('Enter number of hours worked in a week:'))\n",
    "hourly = eval(input('Enter hourly pay rate:'))\n",
    "federal = eval(input('Enter federal tax withholding rate:'))\n",
    "state = eval(input('Enter state tax withholding rate :'))\n",
    "\n",
    "GrossPay = weektime * hourly\n",
    "FeferalWithholding = GrossPay * federal\n",
    "StateWithholding = GrossPay * state\n",
    "TotalDeduction = FeferalWithholding + StateWithholding\n",
    "NetPay = GrossPay - TotalDeduction\n",
    "print('Employee Name:', name ,'\\n',\n",
    "      'Hours Worked:', weektime ,\n",
    "      '\\n','Pay rate: $', hourly ,\n",
    "      '\\n','Gross pay: 4',GrossPay , \n",
    "      '\\n','Feferal Withholding(20.0%): $',FeferalWithholding , \n",
    "      '\\n','State Withholding(9.0%): $',StateWithholding , \n",
    "      '\\n','Employee Name:', name ,'\\n',\n",
    "      'Total Deduction: $',TotalDeduction , \n",
    "      '\\n','Net Pay:', NetPay )"
   ]
  },
  {
   "cell_type": "markdown",
   "metadata": {},
   "source": [
    "- 7\n",
    "<img src=\"../Photo/32.png\"><img>"
   ]
  },
  {
   "cell_type": "code",
   "execution_count": 30,
   "metadata": {},
   "outputs": [
    {
     "name": "stdout",
     "output_type": "stream",
     "text": [
      "Enter an integer:3125\n",
      "5213"
     ]
    }
   ],
   "source": [
    "num = eval(input('Enter an integer:') )\n",
    "a = num // 1000\n",
    "b = num % 1000 // 100\n",
    "c = num %100 // 10\n",
    "d = num %10\n",
    "print(d,end='')\n",
    "print(c,end='')\n",
    "print(b,end='')\n",
    "print (a,end='')\n",
    "#print('The reversed number is %d' %(num))"
   ]
  },
  {
   "cell_type": "markdown",
   "metadata": {},
   "source": [
    "- 8 进阶：\n",
    "> 加密一串文本，并将解密后的文件写入本地保存"
   ]
  },
  {
   "cell_type": "code",
   "execution_count": 71,
   "metadata": {},
   "outputs": [
    {
     "name": "stdout",
     "output_type": "stream",
     "text": [
      "加密信息： 2686882714Arr/dpn\n",
      "解密信息： 1575771603@qq.com\n"
     ]
    }
   ],
   "source": [
    "#邮箱加密\n",
    "a = '1575771603@qq.com'\n",
    "res3 = ''\n",
    "for i in a:\n",
    "    res = ord(i) + 1\n",
    "    res2 = chr(res)\n",
    "    res3 = res3 + res2\n",
    "print('加密信息：',res3)\n",
    "\n",
    "res4 = ''\n",
    "for i in res3:\n",
    "    res = ord(i)-1\n",
    "    res2 = chr(res)\n",
    "    res4 = res4 + res2\n",
    "print('解密信息：',res4)\n"
   ]
  }
 ],
 "metadata": {
  "kernelspec": {
   "display_name": "Python 3",
   "language": "python",
   "name": "python3"
  },
  "language_info": {
   "codemirror_mode": {
    "name": "ipython",
    "version": 3
   },
   "file_extension": ".py",
   "mimetype": "text/x-python",
   "name": "python",
   "nbconvert_exporter": "python",
   "pygments_lexer": "ipython3",
   "version": "3.6.4"
  }
 },
 "nbformat": 4,
 "nbformat_minor": 2
}
