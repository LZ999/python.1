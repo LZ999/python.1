{
 "cells": [
  {
   "cell_type": "markdown",
   "metadata": {},
   "source": [
    "# 选择\n",
    "## 布尔类型、数值和表达式\n",
    "![](../Photo/33.png)\n",
    "- 注意：比较运算符的相等是两个等到，一个等到代表赋值\n",
    "- 在Python中可以用整型0来代表False，其他数字来代表True\n",
    "- 后面还会讲到 is 在判断语句中的用发"
   ]
  },
  {
   "cell_type": "code",
   "execution_count": null,
   "metadata": {},
   "outputs": [],
   "source": [
    "#余额取钱\n",
    "money = 1000\n",
    "money1 = eval(input('请输入取款金额：'))\n",
    "password = eval(input('请输入密码：'))\n",
    "if money1 > money :\n",
    "    print('余额不足，请重新输入取款金额')\n",
    "    else :\n",
    "        print('请拿好您的钱！')\n",
    "        money = money - money1"
   ]
  },
  {
   "cell_type": "code",
   "execution_count": null,
   "metadata": {},
   "outputs": [
    {
     "name": "stdout",
     "output_type": "stream",
     "text": [
      "欢迎您！尊敬的用户！\n",
      "注意事项：\n",
      "1.切忌用自己的生日做为银行卡的密码，因为一旦钱包被盗，小偷很可能会根据你的生日做密码来盗取钱财。\n",
      "2.在自动提款机取钱的时候，一定要小心，必须要防止别人偷窥您的密码。\n",
      "3.当用自动取款机取钱时，若前面有人，一定要保持距离，以免他人怀疑你是小偷，想偷看密码或盗取钱财，引起不必要的事情。\n",
      "4.身份证与银行卡不能放在一起，一方面跟我前面说的第一条有关系，在一个就是二者放在一起可能会消磁。\n",
      "5.取完钱后千万不要随手丢弃交易凭条，因为这样做是非常容易泄露自己的银行卡号的。\n",
      "输入任意键跳转\n",
      "请输入密码:\n",
      "123456\n",
      "密码正确，请继续您的操作！\n",
      "========== 华夏CSDN银行欢迎您！ ==========\n",
      "==========      1.查询余额      ==========\n",
      "==========      2.存款          ==========\n",
      "==========      3.取款          ==========\n",
      "==========      4.退出          ==========\n",
      "请选择你的操作：1\n",
      "123456\n",
      "========== 华夏CSDN银行欢迎您！ ==========\n",
      "==========      1.查询余额      ==========\n",
      "==========      2.存款          ==========\n",
      "==========      3.取款          ==========\n",
      "==========      4.退出          ==========\n"
     ]
    }
   ],
   "source": [
    "#!/usr/bin/env python\n",
    "# @Time    : 2018/3/19 14:44\n",
    "# @Author  : KiritoLiu\n",
    "# @Contact : kiritoliuyhsky@gmail.com\n",
    "# @Site    :\n",
    "# @File    : 取款机.py\n",
    "# @Software: PyCharm\n",
    "'''\n",
    "取款机的功能：\n",
    "无卡的提示界面\n",
    "插卡后输入密码\n",
    "　　1、取款：每张银行卡每天取款最多20000元，每次取款最高限额5000元。\n",
    "　　2、存款：存款每天次数不限，但一次存款最多张数为100张，存款机只接受面额为100元的纸币，\n",
    "        可识别新版人民币，存款时，不同面额、不同版本的人民币可混放。\n",
    "　　3、转账：实现银行卡之间的卡卡转账。    暂不实现\n",
    "　　4、查询余额：显示卡内活期余额。\n",
    "　　5、修改密码：此处修改的密码为取款密码。\n",
    "'''\n",
    "import os\n",
    "#未插卡时的提示界面\n",
    "def tishi():\n",
    "    #提示信息\n",
    "    print(\"欢迎您！尊敬的用户！\")\n",
    "    print(\"注意事项：\")\n",
    "    print(\"1.切忌用自己的生日做为银行卡的密码，因为一旦钱包被盗，小偷很可能会根据你的生日做密码来盗取钱财。\")\n",
    "    print(\"2.在自动提款机取钱的时候，一定要小心，必须要防止别人偷窥您的密码。\")\n",
    "    print(\"3.当用自动取款机取钱时，若前面有人，一定要保持距离，以免他人怀疑你是小偷，想偷看密码或盗取钱财，引起不必要的事情。\")\n",
    "    print(\"4.身份证与银行卡不能放在一起，一方面跟我前面说的第一条有关系，在一个就是二者放在一起可能会消磁。\")\n",
    "    print(\"5.取完钱后千万不要随手丢弃交易凭条，因为这样做是非常容易泄露自己的银行卡号的。\")\n",
    "    i = input(\"输入任意键跳转\")\n",
    " \n",
    "#插卡后的密码输入操作\n",
    "def chaka():\n",
    "    #插卡后先输入密码\n",
    "    print(\"请输入密码:\")\n",
    "    m = int(input())\n",
    "    i = 3\n",
    "    a = int(999999)\n",
    "    b = int(100000)\n",
    "    if m > a or m < b:\n",
    "        #此处我们假定只要是6位数字就是正确密码\n",
    "        print(\"密码输入错误，请重新输入，您还有2次机会\")\n",
    "        i -= 1\n",
    "        m = int(input())\n",
    "        if m > a or m < b:\n",
    "            print(\"密码输入错误，请重新输入，您还有1次机会\")\n",
    "            i -= 1\n",
    "            m = int(input())\n",
    "            if m > a or m < b:\n",
    "                i -= 1\n",
    "                if i == 0:\n",
    "                    #三次密码错误后，机器吞卡，并进入死循环，不允许任何操作\n",
    "                    print(\"您的密码错误次数过多，请联系服务人员，并带身份证到柜台处更改密码\")\n",
    "                    print(\"联系电话：188-8888-8888\")\n",
    "                    while i == 0:       #死循环\n",
    "                        i = 0\n",
    "            else:\n",
    "                print(\"密码正确，请继续您的操作！\")\n",
    "        else:\n",
    "            print(\"密码正确，请继续您的操作！\")\n",
    "    else:\n",
    "        print(\"密码正确，请继续您的操作！\")\n",
    "    return m\n",
    " \n",
    "def ckts():\n",
    "    #插卡后的提示界面\n",
    "    print(\"=\" * 10, \"华夏CSDN银行欢迎您！\", \"=\" * 10)\n",
    "    print(\"=\" * 10, \" \" * 4, \"1.查询余额\", \" \" * 4, \"=\" * 10)\n",
    "    print(\"=\" * 10, \" \" * 4, \"2.存款\", \" \" * 8, \"=\" * 10)\n",
    "    print(\"=\" * 10, \" \" * 4, \"3.取款\", \" \" * 8, \"=\" * 10)\n",
    "    print(\"=\" * 10, \" \" * 4, \"4.退出\", \" \" * 8, \"=\" * 10)\n",
    " \n",
    "def cunqian(a):     #存钱金额判断\n",
    "    while True:\n",
    "        if (((a % 100) == 0) and (a <= 10000)):\n",
    "            return a\n",
    "        else:\n",
    "            print(\"存款错误，请重新存入\")\n",
    "            a = int(input(\"存入金额：\\n\"))\n",
    "            cunqian(a)\n",
    " \n",
    "def ququan(a,qm):   #取钱金额判断，（本次取钱数目，今日取钱数目总计）\n",
    "    qm = qm\n",
    "    while True:     #今日取钱总计大于2万后，禁止今日再交易\n",
    "        if (((a % 100) == 0) and (qm <= 20000) and (a >= 100) and (a <= 5000) ):\n",
    "            return a\n",
    "        elif qm > 20000:\n",
    "            print(\"您今日的取款金额达到上限，请明日再来！\")    #默认取款大于2万为账户可能被盗或出现问题，退卡，今日中止任何交易\n",
    "            os._exit(0)\n",
    "        else:\n",
    "            print(\"您的取款金额输入错误，请重新输入！\")\n",
    "            a = int(input(\"取出金额：\\n\"))\n",
    "            ququan(a, qm)\n",
    " \n",
    "def csdn(ye):  #ye即余额\n",
    "    ye = ye\n",
    "    qm = 0\n",
    "    #存取款死循环，特殊情况退出系统\n",
    "    while True:\n",
    "        ckts()      #界面\n",
    "        key = int(input(\"请选择你的操作：\"))\n",
    "        if key == 1:\n",
    "            print(ye)\n",
    "        elif key == 2:\n",
    "            cmoney = int(input(\"存入金额：\\n\"))       #cmoney为存钱金额\n",
    "            cmoney = cunqian(cmoney)\n",
    "            ye += cmoney\n",
    "        elif key == 3:\n",
    "            qmoney = int(input(\"取出金额：\\n\"))      #qmoney为取钱金额\n",
    "            qmoney = ququan(qmoney,qm)\n",
    "            qm += qmoney\n",
    "            ye -= qmoney\n",
    "        elif key == 4:\n",
    "            os._exit(0)\n",
    "            print(\"您的选择有误，请重新选择！\")\n",
    "            csdn(ye)\n",
    " \n",
    "tishi()     #提示\n",
    "money = mm = int(chaka())        #初始余额=初始密码\n",
    "csdn(money)     #主函数\n"
   ]
  },
  {
   "cell_type": "code",
   "execution_count": null,
   "metadata": {},
   "outputs": [],
   "source": []
  },
  {
   "cell_type": "markdown",
   "metadata": {},
   "source": [
    "## 字符串的比较使用ASCII值"
   ]
  },
  {
   "cell_type": "markdown",
   "metadata": {},
   "source": [
    "## Markdown \n",
    "- https://github.com/younghz/Markdown"
   ]
  },
  {
   "cell_type": "markdown",
   "metadata": {},
   "source": [
    "## EP:\n",
    "- <img src=\"../Photo/34.png\"></img>\n",
    "- 输入一个数字，判断其实奇数还是偶数"
   ]
  },
  {
   "cell_type": "code",
   "execution_count": 4,
   "metadata": {},
   "outputs": [
    {
     "name": "stdout",
     "output_type": "stream",
     "text": [
      "1\n",
      "0\n",
      "True\n",
      "False\n"
     ]
    }
   ],
   "source": [
    "#EP\n",
    "i = int(True)\n",
    "print(i)\n",
    "j = int(False)\n",
    "print(j)\n",
    "b1 = bool(4)\n",
    "print(b1)\n",
    "b2 = bool(0)\n",
    "print(b2)"
   ]
  },
  {
   "cell_type": "markdown",
   "metadata": {},
   "source": [
    "## 产生随机数字\n",
    "- 函数random.randint(a,b) 可以用来产生一个a和b之间且包括a和b的随机整数"
   ]
  },
  {
   "cell_type": "code",
   "execution_count": 5,
   "metadata": {},
   "outputs": [],
   "source": [
    "import random"
   ]
  },
  {
   "cell_type": "code",
   "execution_count": null,
   "metadata": {},
   "outputs": [],
   "source": [
    "random.randint()"
   ]
  },
  {
   "cell_type": "markdown",
   "metadata": {},
   "source": [
    "##  其他random方法\n",
    "- random.random 返回0.0到1.0之间前闭后开区间的随机浮点\n",
    "- random.randrange(a,b) 前闭后开"
   ]
  },
  {
   "cell_type": "code",
   "execution_count": null,
   "metadata": {},
   "outputs": [],
   "source": [
    "random.random()"
   ]
  },
  {
   "cell_type": "code",
   "execution_count": null,
   "metadata": {},
   "outputs": [],
   "source": [
    "random.randrange()"
   ]
  },
  {
   "cell_type": "markdown",
   "metadata": {},
   "source": [
    "## EP：\n",
    "- 产生两个随机整数number1和number2，然后显示给用户，使用户输入数字的和，并判定其是否正确\n",
    "- 进阶:写一个随机序号点名程序"
   ]
  },
  {
   "cell_type": "code",
   "execution_count": 10,
   "metadata": {},
   "outputs": [
    {
     "name": "stdout",
     "output_type": "stream",
     "text": [
      "374\n",
      "585\n",
      "请输入两个数字之和：959\n",
      "答对啦，你真棒！\n"
     ]
    }
   ],
   "source": [
    "#EF\n",
    "import random\n",
    "number1 = random.randint(0,1000)\n",
    "print(number1)\n",
    "number2 = random.randint(0,1000)\n",
    "print(number2)\n",
    "s = eval(input('请输入两个数字之和：'))\n",
    "if s == number1 + number2 :\n",
    "    print('答对啦，你真棒！')\n",
    "else :\n",
    "        print('答错了，请继续努力！')"
   ]
  },
  {
   "cell_type": "code",
   "execution_count": 66,
   "metadata": {},
   "outputs": [
    {
     "name": "stdout",
     "output_type": "stream",
     "text": [
      "请 3 行 5 列,回答问题\n"
     ]
    }
   ],
   "source": [
    "#随机点名，使用行列形式\n",
    "import random\n",
    "h = random.randint(1,10)\n",
    "if h == 9 :\n",
    "    l= random.randint(1,6)\n",
    "    print('请',h,'行',l,'列,回答问题')\n",
    "elif h == 10 :\n",
    "    l = random.randint(1,4)\n",
    "    print('请',h,'行',l,'列,回答问题')\n",
    "else :\n",
    "    l = random.randint(1,5)\n",
    "    print('请',h,'行',l,'列,回答问题')"
   ]
  },
  {
   "cell_type": "code",
   "execution_count": 43,
   "metadata": {},
   "outputs": [
    {
     "name": "stdout",
     "output_type": "stream",
     "text": [
      "请输入你的成绩：60\n",
      "C，及格，请继续加油！\n"
     ]
    }
   ],
   "source": [
    "#成绩A·B·C·D\n",
    "count = eval(input('请输入你的成绩：'))\n",
    "if count < 60 :\n",
    "    print('D，不及格，请继续努力！')\n",
    "elif count < 70 :\n",
    "    print('C，及格，请继续加油！')\n",
    "elif count < 80 :\n",
    "    print('B，不错，请继续加油！')\n",
    "elif count < 90 :\n",
    "    print('A，优秀，请继续保持！')"
   ]
  },
  {
   "cell_type": "markdown",
   "metadata": {},
   "source": [
    "## if语句\n",
    "- 如果条件正确就执行一个单向if语句，亦即当条件为真的时候才执行if内部的语句\n",
    "- Python有很多选择语句:\n",
    "> - 单向if \n",
    "  - 双向if-else\n",
    "  - 嵌套if\n",
    "  - 多向if-elif-else\n",
    "  \n",
    "- 注意：当语句含有子语句的时候，那么一定至少要有一个缩进，也就是说如果有儿子存在，那么一定要缩进\n",
    "- 切记不可tab键和space混用，单用tab 或者 space\n",
    "- 当你输出的结果是无论if是否为真时都需要显示时，语句应该与if对齐"
   ]
  },
  {
   "cell_type": "markdown",
   "metadata": {},
   "source": [
    "## EP：\n",
    "- 用户输入一个数字，判断其实奇数还是偶数\n",
    "- 进阶：可以查看下4.5实例研究猜生日"
   ]
  },
  {
   "cell_type": "code",
   "execution_count": 68,
   "metadata": {},
   "outputs": [
    {
     "name": "stdout",
     "output_type": "stream",
     "text": [
      "请输入一个数字：6\n",
      "6 是偶数\n"
     ]
    }
   ],
   "source": [
    "#EP\n",
    "number = eval(input('请输入一个数字：'))\n",
    "if number % 2 == 0 :\n",
    "    print(number,'是偶数')\n",
    "else:\n",
    "    print(number,'是奇数')"
   ]
  },
  {
   "cell_type": "markdown",
   "metadata": {},
   "source": [
    "## 双向if-else 语句\n",
    "- 如果条件为真，那么走if内部语句，否则走else内部语句"
   ]
  },
  {
   "cell_type": "markdown",
   "metadata": {},
   "source": [
    "## EP：\n",
    "- 产生两个随机整数number1和number2，然后显示给用户，使用户输入数字，并判定其是否正确,如果正确打印“you‘re correct”，否则打印正确错误"
   ]
  },
  {
   "cell_type": "markdown",
   "metadata": {},
   "source": [
    "## 嵌套if 和多向if-elif-else\n",
    "![](../Photo/35.png)"
   ]
  },
  {
   "cell_type": "code",
   "execution_count": 70,
   "metadata": {},
   "outputs": [
    {
     "name": "stdout",
     "output_type": "stream",
     "text": [
      "请输入你的用户账号：123456789\n",
      "优质用户您好：\n",
      "抢到一张满100减100元优惠劵\n"
     ]
    }
   ],
   "source": [
    "#优质用户抢优惠券\n",
    "name = input('请输入你的用户账号：')\n",
    "if name == '123456789':\n",
    "    print('优质用户您好：')\n",
    "    print('抢到一张满100减100元优惠劵')\n",
    "else:\n",
    "    print('抢到一张满100减20元优惠劵')"
   ]
  },
  {
   "cell_type": "markdown",
   "metadata": {},
   "source": [
    "## EP：\n",
    "- 提示用户输入一个年份，然后显示表示这一年的动物\n",
    "![](../Photo/36.png)\n",
    "- 计算身体质量指数的程序\n",
    "- BMI = 以千克为单位的体重除以以米为单位的身高\n",
    "![](../Photo/37.png)"
   ]
  },
  {
   "cell_type": "code",
   "execution_count": 75,
   "metadata": {},
   "outputs": [
    {
     "name": "stdout",
     "output_type": "stream",
     "text": [
      "请输入一个年份：2010\n",
      "虎\n"
     ]
    }
   ],
   "source": [
    "#十二生肖\n",
    "year = eval(input('请输入一个年份：'))\n",
    "if year % 12 == 0 :\n",
    "    print('猴')\n",
    "elif year % 12 == 1:\n",
    "    print('鸡')\n",
    "elif year % 12 == 2:\n",
    "    print('狗')\n",
    "elif year % 12 == 3:\n",
    "    print('猪')\n",
    "elif year % 12 == 4:\n",
    "    print('鼠')\n",
    "elif year % 12 == 5:\n",
    "    print('牛')\n",
    "elif year % 12 == 6:\n",
    "    print('虎')\n",
    "elif year % 12 == 7:\n",
    "    print('兔')\n",
    "elif year % 12 == 8:\n",
    "    print('龙')\n",
    "elif year % 12 == 9:\n",
    "    print('蛇')\n",
    "elif year % 12 == 10:\n",
    "    print('马')\n",
    "else :\n",
    "    print('羊')"
   ]
  },
  {
   "cell_type": "code",
   "execution_count": 91,
   "metadata": {},
   "outputs": [
    {
     "name": "stdout",
     "output_type": "stream",
     "text": [
      "请输入你的体重（KG）：65\n",
      "请输入你的身高（M）：1.66\n",
      "标准\n",
      "65 / 1.66 = 23.588329220496444\n"
     ]
    }
   ],
   "source": [
    "#身体质量指数程序\n",
    "weight = eval(input('请输入你的体重（KG）：'))\n",
    "height = eval(input('请输入你的身高（M）：'))\n",
    "BMI = weight / (height* height)\n",
    "if BMI < 18.5 :\n",
    "    print('超轻')\n",
    "elif 18.5 < BMI < 25.0 :\n",
    "    print('标准')\n",
    "elif 25.0 < BMI < 30.0 :\n",
    "    print('超重')\n",
    "else :\n",
    "    print('胖')\n",
    "print(weight,'/',height,'=',BMI)"
   ]
  },
  {
   "cell_type": "markdown",
   "metadata": {},
   "source": [
    "## 逻辑运算符\n",
    "![](../Photo/38.png)"
   ]
  },
  {
   "cell_type": "markdown",
   "metadata": {},
   "source": [
    "![](../Photo/39.png)\n",
    "![](../Photo/40.png)"
   ]
  },
  {
   "cell_type": "markdown",
   "metadata": {},
   "source": [
    "## EP：\n",
    "- 判定闰年：一个年份如果能被4整除但不能被100整除，或者能被400整除，那么这个年份就是闰年\n",
    "- 提示用户输入一个年份，并返回是否是闰年\n",
    "- 提示用户输入一个数字，判断其是否为水仙花数"
   ]
  },
  {
   "cell_type": "code",
   "execution_count": 94,
   "metadata": {},
   "outputs": [
    {
     "name": "stdout",
     "output_type": "stream",
     "text": [
      "请输入一个年份：1986\n",
      "1986 这个年份不是闰年！\n"
     ]
    }
   ],
   "source": [
    "#EF  判定闰年：\n",
    "year = eval(input('请输入一个年份：'))\n",
    "if year % 4 == 0 and year % 100 != 0 or year % 400 == 0:\n",
    "    print(year,'这个年份是闰年！')\n",
    "else:\n",
    "    print(year,'这个年份不是闰年！')"
   ]
  },
  {
   "cell_type": "code",
   "execution_count": 96,
   "metadata": {},
   "outputs": [
    {
     "name": "stdout",
     "output_type": "stream",
     "text": [
      "请输入一个三位数：152\n",
      "152 不是水仙花数！\n"
     ]
    }
   ],
   "source": [
    "#EP  水仙花数\n",
    "import math\n",
    "number = eval(input('请输入一个三位数：'))\n",
    "a = number // 100\n",
    "b = number % 100 // 10\n",
    "c = number % 10 // 1\n",
    "if  number == pow(a,3)+pow(b,3)+pow(c,3):\n",
    "    print(number,'水仙花数！')\n",
    "else:\n",
    "    print(number,'不是水仙花数！')\n",
    "    "
   ]
  },
  {
   "cell_type": "code",
   "execution_count": 98,
   "metadata": {},
   "outputs": [
    {
     "name": "stdout",
     "output_type": "stream",
     "text": [
      "153 水仙花数！\n",
      "370 水仙花数！\n",
      "371 水仙花数！\n",
      "407 水仙花数！\n"
     ]
    }
   ],
   "source": [
    "for i in range(100,1000):\n",
    "    a = i // 100\n",
    "    b = i % 100 // 10\n",
    "    c = i % 10 // 1\n",
    "    if  i == pow(a,3)+pow(b,3)+pow(c,3):\n",
    "        print(i,'水仙花数！')"
   ]
  },
  {
   "cell_type": "code",
   "execution_count": 1,
   "metadata": {},
   "outputs": [
    {
     "name": "stdout",
     "output_type": "stream",
     "text": [
      "请输入最大范围：100\n",
      "0 水仙花数！\n",
      "1 水仙花数！\n",
      "2 水仙花数！\n",
      "3 水仙花数！\n",
      "4 水仙花数！\n",
      "5 水仙花数！\n",
      "6 水仙花数！\n",
      "7 水仙花数！\n",
      "8 水仙花数！\n",
      "9 水仙花数！\n"
     ]
    }
   ],
   "source": [
    "max_num = int(input('请输入最大范围：'))\n",
    "for num in range(0,max_num) :\n",
    "    s = 0\n",
    "    length = len(str(num))\n",
    "    temp = num\n",
    "    for i in range(length):\n",
    "        s += (temp % 10) ** length\n",
    "        temp //= 10\n",
    "    if  s == num:\n",
    "        print(num,'水仙花数！')"
   ]
  },
  {
   "cell_type": "code",
   "execution_count": 2,
   "metadata": {},
   "outputs": [
    {
     "name": "stdout",
     "output_type": "stream",
     "text": [
      "请输入最大范围0\n"
     ]
    }
   ],
   "source": [
    "max_num = int(input('请输入最大范围'))\n",
    "# 获取小于指定数的阿姆斯特朗数\n",
    "for num in range(0, max_num):\n",
    "    sum = 0\n",
    "    length = len(str(num))\n",
    "    temp = num\n",
    "    for i in range(length):\n",
    "        sum += (temp % 10) ** length\n",
    "        temp //= 10\n",
    "    if sum == num:\n",
    "        print(num)"
   ]
  },
  {
   "cell_type": "markdown",
   "metadata": {},
   "source": [
    "## 实例研究：彩票\n",
    "![](../Photo/41.png)"
   ]
  },
  {
   "cell_type": "code",
   "execution_count": 4,
   "metadata": {},
   "outputs": [
    {
     "name": "stdout",
     "output_type": "stream",
     "text": [
      "33\n",
      "请输入一个数字：2\n",
      "请输入一个数字：1\n"
     ]
    }
   ],
   "source": [
    "#EF  彩票\n",
    "import random\n",
    "#random.randint()\n",
    "a = random.randint(10,99)\n",
    "print(a)\n",
    "number1 = eval(input('请输入一个数字：'))\n",
    "number2 = eval(input('请输入一个数字：'))\n",
    "if number1*10 + number2 == a:\n",
    "    print('你中10000美元大奖啦！！！')\n",
    "elif number2*10 + number1 == a:\n",
    "    print('你中3000美元大奖啦！！')\n",
    "elif number1 "
   ]
  },
  {
   "cell_type": "code",
   "execution_count": 8,
   "metadata": {},
   "outputs": [
    {
     "name": "stdout",
     "output_type": "stream",
     "text": [
      "88\n",
      "请输入一个数字：8\n",
      "请输入一个数字：8\n",
      "你中10000美元大奖啦！！！\n"
     ]
    }
   ],
   "source": [
    "import random\n",
    "#random.randint()\n",
    "a = random.randint(10,99)\n",
    "print(a)\n",
    "number1 = eval(input('请输入一个数字：'))\n",
    "number2 = eval(input('请输入一个数字：'))\n",
    "b = a // 10\n",
    "c = a % 10\n",
    "if number1 == b and number2 == c:\n",
    "    print('你中10000美元大奖啦！！！')\n",
    "elif number1 == c and number ==b :\n",
    "    print('你中3000美元大奖啦！！')\n",
    "elif number1 == b or number1 == c or number2 ==b or number2 ==c:\n",
    "    print('你中1000美元大奖啦！！')\n",
    "else:\n",
    "    print('没有中奖，再来一次吧！')"
   ]
  },
  {
   "cell_type": "code",
   "execution_count": 15,
   "metadata": {},
   "outputs": [
    {
     "name": "stdout",
     "output_type": "stream",
     "text": [
      "94\n",
      "请输入一个两位数字：11\n",
      "没有中奖，再来一次吧！\n"
     ]
    }
   ],
   "source": [
    "import random\n",
    "#random.randint()\n",
    "a = random.randint(10,99)\n",
    "print(a)\n",
    "number1 = eval(input('请输入一个两位数字：'))\n",
    "b = a // 10\n",
    "c = a % 10\n",
    "number2 = number1 // 10\n",
    "number3 = number1 % 10\n",
    "if number2 == b and number3 == c:\n",
    "    print('你中10000美元大奖啦！！！')\n",
    "elif number2 == c and number3 ==b :\n",
    "    print('你中3000美元大奖啦！！')\n",
    "elif number2 == b or number2 == c or number3 ==b or number3 ==c:\n",
    "    print('你中1000美元大奖啦！！')\n",
    "else:\n",
    "    print('没有中奖，再来一次吧！')"
   ]
  },
  {
   "cell_type": "markdown",
   "metadata": {},
   "source": [
    "# Homework\n",
    "- 1\n",
    "![](../Photo/42.png)"
   ]
  },
  {
   "cell_type": "code",
   "execution_count": 11,
   "metadata": {},
   "outputs": [
    {
     "name": "stdout",
     "output_type": "stream",
     "text": [
      "请输入a,b,c三个数的值：1,2,3\n",
      "没有根！！！\n"
     ]
    }
   ],
   "source": [
    "import math\n",
    "a,b,c = eval(input('请输入a,b,c三个数的值：'))\n",
    "p = b**2 - 4 * a * c \n",
    "if p > 0:\n",
    "    print('有两个实根')\n",
    "    r1 = (-b + math.sqrt(p)) / 2 * a\n",
    "    r2 = (-b - math.sqrt(p)) / 2 * a\n",
    "    print('这两个根是',r1,'和',r2)\n",
    "elif p == 0:\n",
    "    r = -b / 2 * a\n",
    "    print('这个根是：',r)\n",
    "else:\n",
    "    print('没有根！！！')"
   ]
  },
  {
   "cell_type": "markdown",
   "metadata": {},
   "source": [
    "- 2\n",
    "![](../Photo/43.png)"
   ]
  },
  {
   "cell_type": "code",
   "execution_count": 17,
   "metadata": {},
   "outputs": [
    {
     "name": "stdout",
     "output_type": "stream",
     "text": [
      "10 + 6\n",
      "请输入这两位数的和：16\n",
      "恭喜你，答对啦！\n"
     ]
    }
   ],
   "source": [
    "import random\n",
    "number1 = random.randint(0,100)\n",
    "number2 = random.randint(0,100)\n",
    "print(number1,'+',number2)\n",
    "s = eval(input('请输入这两位数的和：'))\n",
    "if s == number1+number2:\n",
    "    print('恭喜你，答对啦！')\n",
    "else:\n",
    "    print('答错啦，请继续加油！！！')"
   ]
  },
  {
   "cell_type": "markdown",
   "metadata": {},
   "source": [
    "- 3\n",
    "![](../Photo/44.png)"
   ]
  },
  {
   "cell_type": "code",
   "execution_count": 29,
   "metadata": {},
   "outputs": [
    {
     "name": "stdout",
     "output_type": "stream",
     "text": [
      "请输入今天是本周的那一天：1\n",
      "请输入今天之后到未来某天的天数：3\n",
      "今天是 Monday ，未来 3 天之后是星期 Thursday\n"
     ]
    }
   ],
   "source": [
    "today = eval(input('请输入今天是本周的那一天：'))\n",
    "future = eval(input('请输入今天之后到未来某天的天数：'))\n",
    "if future < 7:\n",
    "    a = ['Sunday','Monday','Tuesday','Wednesday','Thursday','Fraday','Saturday']\n",
    "    b = today + future\n",
    "    print('今天是',a[today],'，未来',future,'天之后是星期',a[b])\n",
    "else:\n",
    "    c = future % 7\n",
    "    b = today + c\n",
    "    print('今天是',a[today],'，未来',future,'天之后是星期',a[b])"
   ]
  },
  {
   "cell_type": "code",
   "execution_count": 18,
   "metadata": {},
   "outputs": [
    {
     "name": "stdout",
     "output_type": "stream",
     "text": [
      "100\n"
     ]
    }
   ],
   "source": [
    "age = ['100',2,3]\n",
    "print(age[0])"
   ]
  },
  {
   "cell_type": "markdown",
   "metadata": {},
   "source": [
    "- 4\n",
    "![](../Photo/45.png)"
   ]
  },
  {
   "cell_type": "code",
   "execution_count": 20,
   "metadata": {},
   "outputs": [
    {
     "name": "stdout",
     "output_type": "stream",
     "text": [
      "请输入三个整数：45,34,23\n",
      "23,34 45\n"
     ]
    }
   ],
   "source": [
    "a,b,c = eval(input('请输入三个整数：'))\n",
    "temp = 0\n",
    "if a < b and a < c:\n",
    "    print(a,end=',')\n",
    "    if b < c :\n",
    "        print(b,c)\n",
    "        \n",
    "    else:\n",
    "        print(c,b)\n",
    "elif b < c:\n",
    "    print(b,end=',')\n",
    "    if a <  c:\n",
    "        print(a,c)\n",
    "    else:\n",
    "        print(c,a)\n",
    "else:\n",
    "    print(c,end=',')\n",
    "    if a < b:\n",
    "        print(a,b)\n",
    "    else :\n",
    "        print(b,a)"
   ]
  },
  {
   "cell_type": "markdown",
   "metadata": {},
   "source": [
    "- 5\n",
    "![](../Photo/46.png)"
   ]
  },
  {
   "cell_type": "code",
   "execution_count": 23,
   "metadata": {},
   "outputs": [
    {
     "name": "stdout",
     "output_type": "stream",
     "text": [
      "请输入第一种包装的大米重量和价格：50,24.59\n",
      "请输入第二种包装的大米重量和价格：25,11.99\n",
      "第二种大米的包装比较好！\n"
     ]
    }
   ],
   "source": [
    "weight1,price1 = eval(input('请输入第一种包装的大米重量和价格：'))\n",
    "weight2,price2 = eval(input('请输入第二种包装的大米重量和价格：'))\n",
    "package1 = price1 / weight1\n",
    "package2 = price2 / weight2\n",
    "if package1 < package2:\n",
    "    print('第一种大米的包装比较好！')\n",
    "elif package1 == package2:\n",
    "    print('这两种大米包装一样好！！')\n",
    "else :\n",
    "    print('第二种大米的包装比较好！')\n"
   ]
  },
  {
   "cell_type": "markdown",
   "metadata": {},
   "source": [
    "- 6\n",
    "![](../Photo/47.png)"
   ]
  },
  {
   "cell_type": "code",
   "execution_count": 27,
   "metadata": {},
   "outputs": [
    {
     "name": "stdout",
     "output_type": "stream",
     "text": [
      "输入月份：3\n",
      "输入年份：2005\n",
      "2005 年 3 月份有31天\n"
     ]
    }
   ],
   "source": [
    "m = eval(input('输入月份：'))\n",
    "y = eval(input('输入年份：'))\n",
    "if y % 4 == 0 and y % 100 != 0 or y % 400 == 0: \n",
    "    if m == 2 :\n",
    "        print(y,'年',m,'月份有29天')\n",
    "else:\n",
    "    if m == 1 or m == 3 or m == 5 or m == 7 or m == 8 or m == 10 or m == 12:\n",
    "        print(y,'年',m,'月份有31天')\n",
    "    elif m == 2:\n",
    "        print(y,'年',m,'月份有28天')\n",
    "    else:\n",
    "        print(y,'年',m,'月份有30天')"
   ]
  },
  {
   "cell_type": "markdown",
   "metadata": {},
   "source": [
    "- 7\n",
    "![](../Photo/48.png)"
   ]
  },
  {
   "cell_type": "code",
   "execution_count": 29,
   "metadata": {},
   "outputs": [
    {
     "name": "stdout",
     "output_type": "stream",
     "text": [
      "1\n",
      "输入一个猜测值（正面：反面）：反面\n",
      "猜错啦！！！\n"
     ]
    }
   ],
   "source": [
    "import random\n",
    "a = random.randint(0,1)\n",
    "print(a)\n",
    "value = input('输入一个猜测值（正面：反面）：')\n",
    "if a == 0 :\n",
    "    b = '反面'\n",
    "    if value == b:\n",
    "        print('猜对啦！！！')\n",
    "    else:\n",
    "        print('猜错啦！！！')\n",
    "else:\n",
    "    b = '正面'\n",
    "    if value == b :\n",
    "        print('猜对啦！！！')\n",
    "    else:\n",
    "        print('猜错啦！！！')"
   ]
  },
  {
   "cell_type": "code",
   "execution_count": 65,
   "metadata": {},
   "outputs": [
    {
     "name": "stdout",
     "output_type": "stream",
     "text": [
      "请输入（0=剪刀，1=石头，2=布）：1\n",
      "布 : 石头 你输啦！！！\n"
     ]
    }
   ],
   "source": [
    "##88888888\n",
    "import random\n",
    "computer = random.randint(0,2)\n",
    "a = ['剪刀','石头','布']\n",
    "count = eval(input('请输入（0=剪刀，1=石头，2=布）：'))\n",
    "if computer == count :\n",
    "    print(a[computer],':',a[count],'平局啦！再来一次吧！')\n",
    "elif computer == 2 and count == 0:\n",
    "    print(a[computer],':',a[count],'你赢啦！！！')\n",
    "elif computer == 0 and count == 2:\n",
    "    print(a[computer],':',a[count],'你输啦！！！')\n",
    "else:\n",
    "    if computer > count:\n",
    "        print(a[computer],':',a[count],'你输啦！！！')\n",
    "    else:\n",
    "        print(a[computer],':',a[count],'你赢啦！！！')\n",
    "    "
   ]
  },
  {
   "cell_type": "markdown",
   "metadata": {},
   "source": [
    "- 9\n",
    "![](../Photo/50.png)"
   ]
  },
  {
   "cell_type": "code",
   "execution_count": 39,
   "metadata": {},
   "outputs": [
    {
     "name": "stdout",
     "output_type": "stream",
     "text": [
      "请输入年份：2012\n",
      "请输入月份（1-12）：5\n",
      "请输入这个月份的天数（1-31）：12\n",
      "今天是星期 Sunday\n"
     ]
    }
   ],
   "source": [
    "year = eval(input('请输入年份：'))\n",
    "month = eval(input('请输入月份（1-12）：'))\n",
    "day = eval(input('请输入这个月份的天数（1-31）：'))\n",
    "j = year // 100\n",
    "k = year % 100\n",
    "h = ( day + ( 26*( month + 1) // 10) + k + k // 4 + j // 4 + 5 * j) % 7\n",
    "a = ['Sunday','Monday','Tuesday','Wednesday','Thursday','Friday','Saturday']\n",
    "print('今天是星期',a[h])"
   ]
  },
  {
   "cell_type": "markdown",
   "metadata": {},
   "source": [
    "- 10\n",
    "![](../Photo/51.png)"
   ]
  },
  {
   "cell_type": "code",
   "execution_count": 54,
   "metadata": {},
   "outputs": [
    {
     "name": "stdout",
     "output_type": "stream",
     "text": [
      "你抽到的这张牌是： 红桃 3\n"
     ]
    }
   ],
   "source": [
    "import random\n",
    "a = random.randint(0,12)\n",
    "b = random.randint(0,3)\n",
    "number = ['Ace','2','3','4','5','6','7','8','9','10','Jack','Queen','King']\n",
    "flower = ['梅花','红桃','方块','黑桃']\n",
    "print('你抽到的这张牌是：',flower[b],number[a])"
   ]
  },
  {
   "cell_type": "markdown",
   "metadata": {},
   "source": [
    "- 11\n",
    "![](../Photo/52.png)"
   ]
  },
  {
   "cell_type": "code",
   "execution_count": 58,
   "metadata": {},
   "outputs": [
    {
     "name": "stdout",
     "output_type": "stream",
     "text": [
      "请输入一个三位数：665\n",
      "665 不是一个回文数！！！\n"
     ]
    }
   ],
   "source": [
    "number = eval(input('请输入一个三位数：'))\n",
    "a = number // 100\n",
    "c = number % 10\n",
    "if a == c:\n",
    "    print(number,'是一个回文数！！！')\n",
    "else:\n",
    "    print(number,'不是一个回文数！！！')"
   ]
  },
  {
   "cell_type": "markdown",
   "metadata": {},
   "source": [
    "- 12\n",
    "![](../Photo/53.png)"
   ]
  },
  {
   "cell_type": "code",
   "execution_count": 61,
   "metadata": {},
   "outputs": [
    {
     "name": "stdout",
     "output_type": "stream",
     "text": [
      "请输入一个三角形的三条边：1,2,1\n",
      "这不是一个三角形！！！\n"
     ]
    }
   ],
   "source": [
    "a,b,c = eval(input('请输入一个三角形的三条边：'))\n",
    "if a + b > c and a + c > b and b + c > a:\n",
    "    s = a + b + c\n",
    "    print(s)\n",
    "else:\n",
    "    print('这不是一个三角形！！！')"
   ]
  }
 ],
 "metadata": {
  "kernelspec": {
   "display_name": "Python 3",
   "language": "python",
   "name": "python3"
  },
  "language_info": {
   "codemirror_mode": {
    "name": "ipython",
    "version": 3
   },
   "file_extension": ".py",
   "mimetype": "text/x-python",
   "name": "python",
   "nbconvert_exporter": "python",
   "pygments_lexer": "ipython3",
   "version": "3.6.4"
  }
 },
 "nbformat": 4,
 "nbformat_minor": 2
}
